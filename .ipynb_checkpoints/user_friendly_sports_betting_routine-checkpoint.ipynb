{
 "cells": [
  {
   "cell_type": "code",
   "execution_count": 13,
   "id": "3621ba64",
   "metadata": {},
   "outputs": [],
   "source": [
    "from sports_betting_utils import *\n",
    "# reload(sports_betting_utils)\n"
   ]
  },
  {
   "cell_type": "code",
   "execution_count": 14,
   "id": "9f2e0a67",
   "metadata": {},
   "outputs": [
    {
     "name": "stdout",
     "output_type": "stream",
     "text": [
      "How many subevents do you have? 2\n",
      "Input tuples of subevent odds and complement subevent odds. -110 -110 -200 300\n",
      "Input 1 if you want to take the intersection of all your subevents. Input 0 otherwise.1\n",
      "The true probability of all subevents occurring simultaneously is 36.4%. \n",
      "What is your bankroll amount?100\n",
      "What odds are you considering betting on?300\n",
      "Is this part of a boosted bet offering? Answer 1 for yes, 0 for no.1\n",
      "Our calculations say that, for the example event with given odds, you should bet $15.15, given you have a bankroll amount of $100.0. Note: this assumes that the boost maximum of $50 is in effect. \n",
      "So, expect 45.5% return on each dollar bet on this offer. \n"
     ]
    }
   ],
   "source": [
    "main_routine()\n",
    "\n"
   ]
  },
  {
   "cell_type": "code",
   "execution_count": null,
   "id": "57ddee41",
   "metadata": {},
   "outputs": [],
   "source": []
  }
 ],
 "metadata": {
  "kernelspec": {
   "display_name": "Python 3 (ipykernel)",
   "language": "python",
   "name": "python3"
  },
  "language_info": {
   "codemirror_mode": {
    "name": "ipython",
    "version": 3
   },
   "file_extension": ".py",
   "mimetype": "text/x-python",
   "name": "python",
   "nbconvert_exporter": "python",
   "pygments_lexer": "ipython3",
   "version": "3.9.12"
  }
 },
 "nbformat": 4,
 "nbformat_minor": 5
}
