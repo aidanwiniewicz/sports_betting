{
 "cells": [
  {
   "cell_type": "code",
   "execution_count": 3,
   "id": "990362ea",
   "metadata": {},
   "outputs": [
    {
     "ename": "SyntaxError",
     "evalue": "EOL while scanning string literal (sports_betting_utils.py, line 27)",
     "output_type": "error",
     "traceback": [
      "Traceback \u001b[1;36m(most recent call last)\u001b[0m:\n",
      "  File \u001b[0;32m~\\anaconda3\\lib\\site-packages\\IPython\\core\\interactiveshell.py:3369\u001b[0m in \u001b[0;35mrun_code\u001b[0m\n    exec(code_obj, self.user_global_ns, self.user_ns)\n",
      "\u001b[1;36m  Input \u001b[1;32mIn [3]\u001b[1;36m in \u001b[1;35m<cell line: 1>\u001b[1;36m\u001b[0m\n\u001b[1;33m    from sports_betting_utils import *\u001b[0m\n",
      "\u001b[1;36m  File \u001b[1;32m~\\sports_betting\\sports_betting_utils.py:27\u001b[1;36m\u001b[0m\n\u001b[1;33m    br_amt = float(input(\"What is your bankroll amount?))\u001b[0m\n\u001b[1;37m                                                         ^\u001b[0m\n\u001b[1;31mSyntaxError\u001b[0m\u001b[1;31m:\u001b[0m EOL while scanning string literal\n"
     ]
    }
   ],
   "source": [
    "from sports_betting_utils import *"
   ]
  }
 ],
 "metadata": {
  "kernelspec": {
   "display_name": "Python 3 (ipykernel)",
   "language": "python",
   "name": "python3"
  },
  "language_info": {
   "codemirror_mode": {
    "name": "ipython",
    "version": 3
   },
   "file_extension": ".py",
   "mimetype": "text/x-python",
   "name": "python",
   "nbconvert_exporter": "python",
   "pygments_lexer": "ipython3",
   "version": "3.9.12"
  }
 },
 "nbformat": 4,
 "nbformat_minor": 5
}
