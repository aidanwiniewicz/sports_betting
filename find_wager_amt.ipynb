{
 "cells": [
  {
   "cell_type": "code",
   "execution_count": 2,
   "id": "4eea8cac",
   "metadata": {},
   "outputs": [],
   "source": [
    "import os\n"
   ]
  },
  {
   "cell_type": "markdown",
   "id": "0e591e30",
   "metadata": {},
   "source": [
    "## Start here"
   ]
  },
  {
   "cell_type": "raw",
   "id": "1eb68dbc",
   "metadata": {},
   "source": [
    "Want:\n",
    "\n",
    "Input: \n",
    "    1. given odds of boosted event. \n",
    "    2. given odds of each subevent\n",
    "    3. given odds of each complement subevent\n",
    "    \n",
    "F1: Take inputs (2,3) and calculate the vig of each subevent. \n",
    "F2: Use vig from F1 to find best estimate of real probability for each subevent and complement subevent. \n"
   ]
  },
  {
   "cell_type": "code",
   "execution_count": 15,
   "id": "86a1b2f5",
   "metadata": {},
   "outputs": [],
   "source": [
    "import numpy as np"
   ]
  },
  {
   "cell_type": "code",
   "execution_count": 16,
   "id": "c1ab0d84",
   "metadata": {},
   "outputs": [],
   "source": [
    "num_sub_events = 3"
   ]
  },
  {
   "cell_type": "code",
   "execution_count": 8,
   "id": "7ce36ee4",
   "metadata": {},
   "outputs": [],
   "source": [
    "def calculate_vig(subevent_odds, subcomplement_odds): \n",
    "    if subevent_odds > 0:\n",
    "        subevent_prob = subevent_odds/(subevent_odds+100)\n",
    "    else: \n",
    "        subevent_prob = abs(subevent_odds) / (abs(subevent_odds) + 100)\n",
    "    if subcomplement_odds > 0:\n",
    "        subcomplement_prob = subcomplement_odds/(subcomplement_odds+100)\n",
    "    else: \n",
    "        subcomplement_prob = abs(subcomplement_odds) / (abs(subcomplement_odds) + 100)\n",
    "    vig =  subevent_prob + subcomplement_prob - 1\n",
    "    \n",
    "    return vig, subevent_prob, subcomplement_prob\n",
    "    \n",
    "    "
   ]
  },
  {
   "cell_type": "code",
   "execution_count": 9,
   "id": "44111a90",
   "metadata": {},
   "outputs": [],
   "source": [
    "def calculate_actual_probs(subevent_prob, subcomplement_prob, vig):\n",
    "    actual_subevent_prob = subevent_prob / (1+vig)\n",
    "    actual_subcomplement_prob = subcomplement_prob / (1+vig)\n",
    "    return actual_subevent_prob, actual_subcomplement_prob"
   ]
  },
  {
   "cell_type": "code",
   "execution_count": 19,
   "id": "300f2263",
   "metadata": {},
   "outputs": [],
   "source": [
    "actual_sub_probs = np.empty((num_sub_events, 1))"
   ]
  },
  {
   "cell_type": "code",
   "execution_count": null,
   "id": "94f0b94b",
   "metadata": {},
   "outputs": [],
   "source": [
    "(0 AND 1) or 2\n",
    "intersection_range = [1,2]\n",
    "union range [2,3]"
   ]
  },
  {
   "cell_type": "code",
   "execution_count": 53,
   "id": "72efe668",
   "metadata": {},
   "outputs": [
    {
     "data": {
      "text/plain": [
       "[[1.0], [0.5], [0.3333333333333333]]"
      ]
     },
     "execution_count": 53,
     "metadata": {},
     "output_type": "execute_result"
    }
   ],
   "source": [
    "actual_sub_probs = [[1/1],[1/2],[1/3]]\n",
    "actual_sub_probs"
   ]
  },
  {
   "cell_type": "code",
   "execution_count": 54,
   "id": "fb6e6c82",
   "metadata": {},
   "outputs": [],
   "source": [
    "def intersect_subevent_prob(actual_sub_probs):\n",
    "    \"\"\"\n",
    "    Input a column vector of actual probabilities for each subevent. \n",
    "    Assumes independent. \n",
    "    \"\"\"\n",
    "    \n",
    "    actual_main_event_prob = np.product(actual_sub_probs)\n",
    "    return actual_main_event_prob\n",
    "    "
   ]
  },
  {
   "cell_type": "code",
   "execution_count": 61,
   "id": "eb423f1d",
   "metadata": {},
   "outputs": [
    {
     "data": {
      "text/plain": [
       "0.5"
      ]
     },
     "execution_count": 61,
     "metadata": {},
     "output_type": "execute_result"
    }
   ],
   "source": [
    "intersect_subevent_prob(actual_sub_probs[0:2])"
   ]
  },
  {
   "cell_type": "code",
   "execution_count": 75,
   "id": "fdf7ea7b",
   "metadata": {},
   "outputs": [
    {
     "ename": "IndentationError",
     "evalue": "expected an indented block (3382153900.py, line 13)",
     "output_type": "error",
     "traceback": [
      "\u001b[1;36m  Input \u001b[1;32mIn [75]\u001b[1;36m\u001b[0m\n\u001b[1;33m    \u001b[0m\n\u001b[1;37m    ^\u001b[0m\n\u001b[1;31mIndentationError\u001b[0m\u001b[1;31m:\u001b[0m expected an indented block\n"
     ]
    }
   ],
   "source": [
    "def union_subevent_prob(actual_sub_probs):\n",
    "    \"\"\"\n",
    "    Input a column vector of probabilities to take the union of. At most 2 probabilities. Uses the inclusion exclusion formula. \n",
    "    Output probability of inclusive or. \n",
    "    \"\"\"\n",
    "    \n",
    "  "
   ]
  },
  {
   "cell_type": "code",
   "execution_count": 85,
   "id": "a232c307",
   "metadata": {},
   "outputs": [
    {
     "data": {
      "text/plain": [
       "[[1.0], [0.5], [0.3333333333333333]]"
      ]
     },
     "execution_count": 85,
     "metadata": {},
     "output_type": "execute_result"
    }
   ],
   "source": [
    "actual_sub_probs"
   ]
  },
  {
   "cell_type": "code",
   "execution_count": 74,
   "id": "2f48ce0d",
   "metadata": {},
   "outputs": [
    {
     "ename": "SyntaxError",
     "evalue": "invalid syntax (3356352350.py, line 1)",
     "output_type": "error",
     "traceback": [
      "\u001b[1;36m  Input \u001b[1;32mIn [74]\u001b[1;36m\u001b[0m\n\u001b[1;33m    actual_sub_probs[0]*actual_sub_probs[i] for i in range(1, len(actual_sub_probs))\u001b[0m\n\u001b[1;37m                                            ^\u001b[0m\n\u001b[1;31mSyntaxError\u001b[0m\u001b[1;31m:\u001b[0m invalid syntax\n"
     ]
    }
   ],
   "source": [
    "actual_sub_probs[0]*actual_sub_probs[i] for i in range(1, len(actual_sub_probs))"
   ]
  },
  {
   "cell_type": "code",
   "execution_count": 67,
   "id": "64752c1b",
   "metadata": {},
   "outputs": [
    {
     "data": {
      "text/plain": [
       "3"
      ]
     },
     "execution_count": 67,
     "metadata": {},
     "output_type": "execute_result"
    }
   ],
   "source": [
    "len(actual_sub_probs)"
   ]
  }
 ],
 "metadata": {
  "kernelspec": {
   "display_name": "Python 3 (ipykernel)",
   "language": "python",
   "name": "python3"
  },
  "language_info": {
   "codemirror_mode": {
    "name": "ipython",
    "version": 3
   },
   "file_extension": ".py",
   "mimetype": "text/x-python",
   "name": "python",
   "nbconvert_exporter": "python",
   "pygments_lexer": "ipython3",
   "version": "3.9.12"
  }
 },
 "nbformat": 4,
 "nbformat_minor": 5
}
