{
 "cells": [
  {
   "cell_type": "code",
   "execution_count": 207,
   "id": "4eea8cac",
   "metadata": {},
   "outputs": [],
   "source": [
    "import os\n",
    "import numpy as np"
   ]
  },
  {
   "cell_type": "markdown",
   "id": "0e591e30",
   "metadata": {},
   "source": [
    "## Positive Expected Value Betting Routine"
   ]
  },
  {
   "cell_type": "markdown",
   "id": "0fe71922",
   "metadata": {},
   "source": [
    "Project idea / design:\n",
    "\n",
    "Want: A general routine for finding the EV and Kelly Criterion bet amount for a given boosted bet. \n",
    "\n",
    "Input: \n",
    "    1. given odds of boosted event. \n",
    "    2. given odds of each subevent\n",
    "    3. given odds of each complement subevent\n",
    "    \n",
    "Alternate input (WIP): if we don't have the given odds of each subevent and complement subevent, we will develop an ML model to predict the VIG for an event, given event odds and event type (moneyline, spread, etc.)\n",
    "    \n",
    "F1: Take inputs (2,3) and calculate the vig of each subevent.  \n",
    "F2: Use vig from F1 to find best estimate of real probability for each subevent and complement subevent.   \n",
    "F3: Calculate probability of the boosted (main) event.   \n",
    "F4: Use Kelly criterion to determine betting amount. \n",
    "\n",
    "Output: Wager amount for a given bankroll. Given the nature of Boost Bets, this will have a maximum of $50$ and a minimum of $0$, with $0 being the output for a negative EV bet. \n",
    "\n"
   ]
  },
  {
   "cell_type": "markdown",
   "id": "3d854bfd",
   "metadata": {},
   "source": [
    "For example: We have three subevents, showing given odds that three different NBA players score 30+ points in a game on a given night.   \n",
    "P1: -174\t+130  \n",
    "P2: -320\t+225  \n",
    "P3: -190\t+152  "
   ]
  },
  {
   "cell_type": "code",
   "execution_count": 213,
   "id": "86a1b2f5",
   "metadata": {},
   "outputs": [
    {
     "name": "stdout",
     "output_type": "stream",
     "text": [
      "How many subevents do you have? 3\n"
     ]
    }
   ],
   "source": [
    "num_sub_events = int(float(input(\"How many subevents do you have? \")))"
   ]
  },
  {
   "cell_type": "code",
   "execution_count": 214,
   "id": "c1ab0d84",
   "metadata": {},
   "outputs": [
    {
     "name": "stdout",
     "output_type": "stream",
     "text": [
      "The boosted event has a total of 3 subevents.\n"
     ]
    }
   ],
   "source": [
    "print(f\"The boosted event has a total of {num_sub_events} subevents.\")"
   ]
  },
  {
   "cell_type": "code",
   "execution_count": 215,
   "id": "91fa12b2",
   "metadata": {},
   "outputs": [
    {
     "name": "stdout",
     "output_type": "stream",
     "text": [
      "Input tuples of subevent odds and complement subevent odds. -110 -110 -110 -110 -110 -110\n"
     ]
    }
   ],
   "source": [
    "arr = input(\"Input tuples of subevent odds and complement subevent odds. \") \n",
    "#for example, if a given subevent has odds +130, complement odds -140, input: 130 -140\n",
    "# if the next subevent has odds +300, complement odds -400, input 300 -400 in the same line, directly after the first two numbers\n",
    "l = list(map(int,arr.split(' '))) "
   ]
  },
  {
   "cell_type": "code",
   "execution_count": 216,
   "id": "4d022a63",
   "metadata": {},
   "outputs": [],
   "source": [
    "subevent_array = np.array(l).reshape(num_sub_events, 2)\n",
    "vig = np.empty((num_sub_events, 1))\n",
    "subevent_complement_prob = np.empty((num_sub_events, 2))"
   ]
  },
  {
   "cell_type": "code",
   "execution_count": 217,
   "id": "b2223c12",
   "metadata": {},
   "outputs": [
    {
     "data": {
      "text/plain": [
       "array([[-110, -110],\n",
       "       [-110, -110],\n",
       "       [-110, -110]])"
      ]
     },
     "execution_count": 217,
     "metadata": {},
     "output_type": "execute_result"
    }
   ],
   "source": [
    "subevent_array"
   ]
  },
  {
   "cell_type": "code",
   "execution_count": 218,
   "id": "7ce36ee4",
   "metadata": {},
   "outputs": [],
   "source": [
    "def calculate_vig(subevent_array): \n",
    "    for i in range(0, num_sub_events):\n",
    "        if subevent_array[i][0] > 0: # 1st column, i.e. subevent odds\n",
    "            subevent_complement_prob[i][0] = 100/(subevent_array[i][0]+100)\n",
    "        else: \n",
    "            subevent_complement_prob[i][0] = abs(subevent_array[i][0]) / (abs(subevent_array[i][0]) + 100)\n",
    "        if subevent_array[i][1] > 0: #2nd column, i.e. complement subevent odds\n",
    "            subevent_complement_prob[i][1] = 100/(subevent_array[i][1]+100)\n",
    "        else: \n",
    "            subevent_complement_prob[i][1] = abs(subevent_array[i][1]) / (abs(subevent_array[i][1]) + 100)\n",
    "        vig[i][0] =  subevent_complement_prob[i][0]+ subevent_complement_prob[i][1]-1\n",
    "    \n",
    "    return vig, subevent_complement_prob\n",
    "    \n",
    "    "
   ]
  },
  {
   "cell_type": "code",
   "execution_count": 219,
   "id": "6d500e18",
   "metadata": {},
   "outputs": [],
   "source": [
    "vig, subevent_complement_prob = calculate_vig(subevent_array)"
   ]
  },
  {
   "cell_type": "code",
   "execution_count": 220,
   "id": "44111a90",
   "metadata": {},
   "outputs": [],
   "source": [
    "def calculate_actual_probs(subevent_complement_prob, vig):\n",
    "    actual_probs = np.empty((num_sub_events, 2))\n",
    "    for i in range(num_sub_events):\n",
    "        actual_probs[i] = np.divide(subevent_complement_prob[i],1+vig[i])\n",
    "    return actual_probs"
   ]
  },
  {
   "cell_type": "code",
   "execution_count": 221,
   "id": "f5b94ff4",
   "metadata": {},
   "outputs": [],
   "source": [
    "actual_probs = calculate_actual_probs(subevent_complement_prob, vig)"
   ]
  },
  {
   "cell_type": "markdown",
   "id": "0db5ad6c",
   "metadata": {},
   "source": [
    "If you want to do a simple parlay of the subevents, follow the below cell."
   ]
  },
  {
   "cell_type": "code",
   "execution_count": 222,
   "id": "fb6e6c82",
   "metadata": {},
   "outputs": [],
   "source": [
    "def intersect_subevent_prob(actual_probs):\n",
    "    \"\"\"\n",
    "   Input the matrix with shape (number of sub events, 2) that contains true probabilities for each event. \n",
    "    Assumes the subevents are independent. \n",
    "    Outputs the probability of all subevents occurring simultaneously. \n",
    "    \"\"\"\n",
    "    intersection_prob = np.empty((1,2))\n",
    "    intersection_prob = np.prod(actual_probs, axis = 0)\n",
    "    return intersection_prob[0]\n",
    "    "
   ]
  },
  {
   "cell_type": "code",
   "execution_count": 237,
   "id": "eb423f1d",
   "metadata": {},
   "outputs": [],
   "source": [
    "true_probability = intersect_subevent_prob(actual_probs)"
   ]
  },
  {
   "cell_type": "code",
   "execution_count": 238,
   "id": "93f3ea8f",
   "metadata": {},
   "outputs": [
    {
     "name": "stdout",
     "output_type": "stream",
     "text": [
      "The true probability of all subevents occurring simultaneously is 12.5%. \n"
     ]
    }
   ],
   "source": [
    "print(f\"The true probability of all subevents occurring simultaneously is {np.round(true_probability*100,1)}%. \")"
   ]
  },
  {
   "cell_type": "code",
   "execution_count": 239,
   "id": "db81a114",
   "metadata": {},
   "outputs": [],
   "source": [
    "def calculate_fair_odds(true_probability):\n",
    "    \"\"\"\n",
    "    Input: true_probability should be a float between 0 and 1.\n",
    "    Output: Fair odds on the usual betting scale (100+ representing unlikely events, -100- representing likely events)\n",
    "    \"\"\"\n",
    "    if true_probability <= .5:\n",
    "        true_odds = 100/true_probability -100\n",
    "    elif true_probability > .5 and true_probability <= 1:\n",
    "        true_odds = -100/(1-true_probability)+100\n",
    "    else:\n",
    "        \"Invalid input probability\"\n",
    "    return true_odds"
   ]
  },
  {
   "cell_type": "markdown",
   "id": "ff9e2b55",
   "metadata": {},
   "source": [
    "It might be the case that the boost you're considering is not comprised of *only* intersections (i.e. only a parlay).  \n",
    "There may also be the union of several events, or some combination of unions and intersections.  \n",
    "A *union* is the logical condition where, given some number of events, when *at least* one event is true, the entire union is true.  For example, the statemen \"player 1 scores 30+ points, *or* player 1 scores less than 30 points\" is always true, since one or the other events must always occur. "
   ]
  },
  {
   "cell_type": "markdown",
   "id": "a995e3a0",
   "metadata": {},
   "source": [
    "Use the below cell to calculate the union of two subevents. "
   ]
  },
  {
   "cell_type": "code",
   "execution_count": 240,
   "id": "6aa25de1",
   "metadata": {},
   "outputs": [
    {
     "data": {
      "text/plain": [
       "array([[0.5, 0.5],\n",
       "       [0.5, 0.5],\n",
       "       [0.5, 0.5]])"
      ]
     },
     "execution_count": 240,
     "metadata": {},
     "output_type": "execute_result"
    }
   ],
   "source": [
    "actual_probs"
   ]
  },
  {
   "cell_type": "code",
   "execution_count": 241,
   "id": "fdf7ea7b",
   "metadata": {},
   "outputs": [],
   "source": [
    "def union_subevent_prob(actual_probs, row_1, row_2):\n",
    "    \"\"\"\n",
    "    Input a matrix of probabilities to take the union of. At most 2 probabilities. Uses the inclusion exclusion formula.\n",
    "    Input the two rows (index starts at 0!) whose probabilities you would like to union. \n",
    "    Output probability of inclusive or. \n",
    "    \"\"\"\n",
    "    union_prob = actual_probs[row_1]+actual_probs[row_2]-(actual_probs[row_1]*actual_probs[row_2])\n",
    "    \n",
    "    return union_prob\n",
    "    \n",
    "    \n",
    "  "
   ]
  },
  {
   "cell_type": "code",
   "execution_count": 242,
   "id": "a232c307",
   "metadata": {},
   "outputs": [],
   "source": [
    "union_prob = union_subevent_prob(actual_probs, 0,1)"
   ]
  },
  {
   "cell_type": "code",
   "execution_count": 243,
   "id": "e86c9923",
   "metadata": {},
   "outputs": [
    {
     "name": "stdout",
     "output_type": "stream",
     "text": [
      "The probability of P1 scoring 30+ points, or P2 scoring 30+ points, or both, is 75.0%. \n",
      "The probability of P1 NOT scoring 30+ points, or P2 NOT scoring 30+ points, or of neither player scoring 30+ points, is 75.0%. \n"
     ]
    }
   ],
   "source": [
    "print(f\"The probability of P1 scoring 30+ points, or P2 scoring 30+ points, or both, is {np.round(union_prob[0]*100,1)}%. \")\n",
    "print(f\"The probability of P1 NOT scoring 30+ points, or P2 NOT scoring 30+ points, or of neither player scoring 30+ points, is {np.round(union_prob[1]*100,1)}%. \")"
   ]
  },
  {
   "cell_type": "markdown",
   "id": "8e8f73d2",
   "metadata": {},
   "source": [
    "Finally, we might wonder how much we should bet on a given event. We should consider two things:  \n",
    " 1. What is the expected value of the bet? In other words, for every dollar we bet, what do we expect to return? If this isn't positive,  *don't bet*. \n",
    " 2. Assuming we have a limited bankroll, how much of it should we place on this bet? We'll use a formula called the *Kelly Criterion* to determine this. "
   ]
  },
  {
   "cell_type": "code",
   "execution_count": 244,
   "id": "135c0991",
   "metadata": {},
   "outputs": [],
   "source": [
    "def kelly_bet_percentage(true_probability, odds_offered, bankroll_amt, boost_bet = True):\n",
    "    \"\"\"\n",
    "    Input the true probability (estimated) of the main event happening. Input the odds offered you by the sportsbook. \n",
    "    Input the dollar value of your betting bankroll.\n",
    "    Output the proportion of the bankroll you should risk (maximum $50 if this is a boosted bet). If 0 is the output, this means don't bet. \n",
    "    Output the dollar amount you should risk. \n",
    "    \n",
    "    NB: kelly formula is f = p - (1-p)/b, where p is true probability, b is the proportion of each dollar bet that you would gain with a win. \n",
    "    e.g. if the odds offered are +200, you will win 2.0 dollars for every dollar bet. If the odds offered are -400, you win .25 for every dollar bet. \n",
    "    \"\"\"\n",
    "    \n",
    "    if odds_offered > 0: \n",
    "        b_value = odds_offered/100\n",
    "    else:\n",
    "        b_value = 100/abs(odds_offered)\n",
    "    \n",
    "    kelly_proportion = true_probability - (1-true_probability)/b_value\n",
    "    if kelly_proportion >=0 and boost_bet ==True:\n",
    "        dollar_value_to_bet = min(kelly_proportion*bankroll_amt, 50)\n",
    "    elif kelly_proportion >= 0 and boost_bet == False:\n",
    "        dollar_value_to_bet = kelly_proportion*bankroll_amt\n",
    "    else: \n",
    "        print(\"Don't bet on this!\")\n",
    "        dollar_value_to_bet =0 \n",
    "    \n",
    "    return kelly_proportion, dollar_value_to_bet\n",
    "        "
   ]
  },
  {
   "cell_type": "code",
   "execution_count": 249,
   "id": "911db5a7",
   "metadata": {},
   "outputs": [],
   "source": [
    "br_amt = 10**3\n",
    "boosted = True\n",
    "if boosted:\n",
    "    place = \"\"\n",
    "else: \n",
    "    place = \"not\"\n",
    "prop, dol = kelly_bet_percentage(true_probability, 700, br_amt, boosted)"
   ]
  },
  {
   "cell_type": "code",
   "execution_count": 250,
   "id": "3c3d8772",
   "metadata": {},
   "outputs": [
    {
     "name": "stdout",
     "output_type": "stream",
     "text": [
      "Our calculations say that, for the example event with given +330 odds, you should bet $0.0, given you have a bankroll amount of $1,000. Note: this assumes that the boost maximum of $50 is in effect. \n"
     ]
    }
   ],
   "source": [
    "print(f\"Our calculations say that, for the example event with given +330 odds, you should bet ${np.round(dol,2):,}, given you have a bankroll amount of ${br_amt:,}. Note: this assumes that the boost maximum of $50 is{place} in effect. \")"
   ]
  },
  {
   "cell_type": "markdown",
   "id": "e28e5214",
   "metadata": {},
   "source": [
    "Finally, let's compute the expected value (EV) for this bet. "
   ]
  },
  {
   "cell_type": "code",
   "execution_count": 251,
   "id": "41862725",
   "metadata": {},
   "outputs": [],
   "source": [
    "def compute_ev(true_probability, given_odds):\n",
    "    fair_odds = calculate_fair_odds(true_probability)\n",
    "    if fair_odds >0 and given_odds > 0:\n",
    "        ev = true_probability* (given_odds - fair_odds)\n",
    "    elif fair_odds > 0 and given_odds < 0:\n",
    "        ev = true_probability*(10000/abs(given_odds) - fair_odds)\n",
    "        print(\"Don't bet on this!\")\n",
    "    elif fair_odds < 0 and given_odds < 0:\n",
    "        ev = true_probability* (given_odds - fair_odds)\n",
    "    elif fair_odds <0 and given_odds >0:\n",
    "        ev = true_probability*(given_odds - 10000/abs(fair_odds))\n",
    "    else: \n",
    "        print(\"Don't bet on this!\")\n",
    "    return np.round(ev,1)"
   ]
  },
  {
   "cell_type": "code",
   "execution_count": 255,
   "id": "12d7e8a7",
   "metadata": {},
   "outputs": [
    {
     "name": "stdout",
     "output_type": "stream",
     "text": [
      "So, expect 37.5% return on each dollar bet on this offer. \n"
     ]
    }
   ],
   "source": [
    "ev = compute_ev(.125, 1000)\n",
    "print(f\"So, expect {ev}% return on each dollar bet on this offer. \")"
   ]
  }
 ],
 "metadata": {
  "kernelspec": {
   "display_name": "Python 3 (ipykernel)",
   "language": "python",
   "name": "python3"
  },
  "language_info": {
   "codemirror_mode": {
    "name": "ipython",
    "version": 3
   },
   "file_extension": ".py",
   "mimetype": "text/x-python",
   "name": "python",
   "nbconvert_exporter": "python",
   "pygments_lexer": "ipython3",
   "version": "3.9.12"
  }
 },
 "nbformat": 4,
 "nbformat_minor": 5
}
