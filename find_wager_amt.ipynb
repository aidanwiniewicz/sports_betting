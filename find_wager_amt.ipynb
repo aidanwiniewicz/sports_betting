{
 "cells": [
  {
   "cell_type": "code",
   "execution_count": 1,
   "id": "4eea8cac",
   "metadata": {},
   "outputs": [],
   "source": [
    "import os\n",
    "import numpy as np"
   ]
  },
  {
   "cell_type": "markdown",
   "id": "0e591e30",
   "metadata": {},
   "source": [
    "## Positive Expected Value Betting Routine"
   ]
  },
  {
   "cell_type": "markdown",
   "id": "0fe71922",
   "metadata": {},
   "source": [
    "Project idea / design:\n",
    "\n",
    "Want: A general routine for finding the EV and Kelly Criterion bet amount for a given boosted bet. \n",
    "\n",
    "Input: \n",
    "    1. given odds of boosted event. \n",
    "    2. given odds of each subevent\n",
    "    3. given odds of each complement subevent\n",
    "    \n",
    "Alternate input (WIP): if we don't have the given odds of each subevent and complement subevent, we will develop an ML model to predict the VIG for an event, given event odds and event type (moneyline, spread, etc.)\n",
    "    \n",
    "F1: Take inputs (2,3) and calculate the vig of each subevent. \n",
    "F2: Use vig from F1 to find best estimate of real probability for each subevent and complement subevent. \n",
    "F3: Calculate probability of the boosted (main) event. \n",
    "F4: Use Kelly criterion to determine betting amount. \n"
   ]
  },
  {
   "cell_type": "markdown",
   "id": "a0fb1561",
   "metadata": {},
   "source": [
    "For example: We have three subevents, showing given odds that three different NBA players score 30+ points in a game on a given night. \n",
    "P1: -174\t+130\n",
    "P2: -320\t+225\n",
    "P3: -190\t+152"
   ]
  },
  {
   "cell_type": "code",
   "execution_count": 10,
   "id": "86a1b2f5",
   "metadata": {},
   "outputs": [
    {
     "name": "stdout",
     "output_type": "stream",
     "text": [
      "How many subevents do you have? 3\n"
     ]
    }
   ],
   "source": [
    "num_sub_events = int(float(input(\"How many subevents do you have? \")))"
   ]
  },
  {
   "cell_type": "code",
   "execution_count": 11,
   "id": "c1ab0d84",
   "metadata": {},
   "outputs": [
    {
     "name": "stdout",
     "output_type": "stream",
     "text": [
      "The boosted event has a total of 3 subevents.\n"
     ]
    }
   ],
   "source": [
    "print(f\"The boosted event has a total of {num_sub_events} subevents.\")"
   ]
  },
  {
   "cell_type": "code",
   "execution_count": 13,
   "id": "91fa12b2",
   "metadata": {},
   "outputs": [
    {
     "name": "stdout",
     "output_type": "stream",
     "text": [
      "Input tuples of subevent odds and complement subevent odds. -174 130 -320 225 -190 152\n"
     ]
    }
   ],
   "source": [
    "arr = input(\"Input tuples of subevent odds and complement subevent odds. \") \n",
    "#for example, if a given subevent has odds +130, complement odds -140, input: 120 -140\n",
    "l = list(map(int,arr.split(' '))) "
   ]
  },
  {
   "cell_type": "code",
   "execution_count": 21,
   "id": "4d022a63",
   "metadata": {},
   "outputs": [],
   "source": [
    "subevent_array = np.array(l).reshape(num_sub_events, 2)\n",
    "vig = np.empty((num_sub_events, 1))\n",
    "subevent_complement_prob = np.empty((num_sub_events, 2))"
   ]
  },
  {
   "cell_type": "code",
   "execution_count": 39,
   "id": "266a9275",
   "metadata": {},
   "outputs": [
    {
     "data": {
      "text/plain": [
       "array([[-174,  130],\n",
       "       [-320,  225],\n",
       "       [-190,  152]])"
      ]
     },
     "execution_count": 39,
     "metadata": {},
     "output_type": "execute_result"
    }
   ],
   "source": [
    "subevent_array"
   ]
  },
  {
   "cell_type": "code",
   "execution_count": 41,
   "id": "7ce36ee4",
   "metadata": {},
   "outputs": [],
   "source": [
    "def calculate_vig(subevent_array): \n",
    "    for i in range(0, num_sub_events):\n",
    "        if subevent_array[i][0] > 0: # 1st column, i.e. subevent odds\n",
    "            subevent_complement_prob[i][0] = 100/(subevent_array[i][0]+100)\n",
    "        else: \n",
    "            subevent_complement_prob[i][0] = abs(subevent_array[i][0]) / (abs(subevent_array[i][0]) + 100)\n",
    "        if subevent_array[i][1] > 0: #2nd column, i.e. complement subevent odds\n",
    "            subevent_complement_prob[i][1] = 100/(subevent_array[i][1]+100)\n",
    "        else: \n",
    "            subevent_complement_prob[i][1] = abs(subevent_array[i][1]) / (abs(subevent_array[i][1]) + 100)\n",
    "        vig[i][0] =  subevent_complement_prob[i][0]+ subevent_complement_prob[i][1]-1\n",
    "    \n",
    "    return vig, subevent_complement_prob\n",
    "    \n",
    "    "
   ]
  },
  {
   "cell_type": "code",
   "execution_count": 45,
   "id": "3db2a6b5",
   "metadata": {},
   "outputs": [],
   "source": [
    "vig, subevent_complement_prob = calculate_vig(subevent_array)"
   ]
  },
  {
   "cell_type": "code",
   "execution_count": 62,
   "id": "ca69bf38",
   "metadata": {},
   "outputs": [
    {
     "name": "stdout",
     "output_type": "stream",
     "text": [
      "[[0.06981911]\n",
      " [0.06959707]\n",
      " [0.05199781]]\n",
      "[[0.6350365  0.43478261]\n",
      " [0.76190476 0.30769231]\n",
      " [0.65517241 0.3968254 ]]\n"
     ]
    }
   ],
   "source": [
    "print(vig)\n",
    "print(subevent_complement_prob)"
   ]
  },
  {
   "cell_type": "code",
   "execution_count": 59,
   "id": "44111a90",
   "metadata": {},
   "outputs": [],
   "source": [
    "def calculate_actual_probs(subevent_complement_prob, vig):\n",
    "    actual_probs = np.empty((num_sub_events, 2))\n",
    "    for i in range(num_sub_events):\n",
    "        actual_probs[i] = np.divide(subevent_complement_prob[i],1+vig[i])\n",
    "    return actual_probs"
   ]
  },
  {
   "cell_type": "code",
   "execution_count": 65,
   "id": "550f125f",
   "metadata": {},
   "outputs": [],
   "source": [
    "actual_probs = calculate_actual_probs(subevent_complement_prob, vig)"
   ]
  },
  {
   "cell_type": "markdown",
   "id": "ef936c06",
   "metadata": {},
   "source": [
    "If you want to do a simple parlay of the subevents, follow the below cell. "
   ]
  },
  {
   "cell_type": "code",
   "execution_count": 68,
   "id": "fb6e6c82",
   "metadata": {},
   "outputs": [],
   "source": [
    "def intersect_subevent_prob(actual_probs):\n",
    "    \"\"\"\n",
    "   Input the matrix with shape (number of sub events, 2) that contains true probabilities for each event. \n",
    "    Assumes the subevents are independent. \n",
    "    \"\"\"\n",
    "    intersection_prob = np.empty((1,2))\n",
    "    intersection_prob = np.prod(actual_probs, axis = 0)\n",
    "    return intersection_prob[0]\n",
    "    "
   ]
  },
  {
   "cell_type": "code",
   "execution_count": 70,
   "id": "eb423f1d",
   "metadata": {},
   "outputs": [],
   "source": [
    "parlay_all_subevents_prob = intersect_subevent_prob(actual_probs)"
   ]
  },
  {
   "cell_type": "code",
   "execution_count": 73,
   "id": "e426b21e",
   "metadata": {},
   "outputs": [
    {
     "name": "stdout",
     "output_type": "stream",
     "text": [
      "The true probability of all subevents occurring simultaneously is 26.3%. \n"
     ]
    }
   ],
   "source": [
    "print(f\"The true probability of all subevents occurring simultaneously is {np.round(parlay_all_subevents_prob*100,1)}%. \")"
   ]
  },
  {
   "cell_type": "code",
   "execution_count": null,
   "id": "0354099c",
   "metadata": {},
   "outputs": [],
   "source": [
    "def calculate_fair_odds(true_probability):\n",
    "    \"\"\"\n",
    "    Input: true_probability should be a float between 0 and 1.\n",
    "    Output: Fair odds on the usual betting scale (100+ representing unlikely events, -100- representing likely events)\n",
    "    \"\"\"\n",
    "    if true_probability <= .5:\n",
    "        true_odds = 100/true_probability -100\n",
    "    elif true_probability > .5 and true_probability <= 1:\n",
    "        true_odds = -100/(1-true_probability)+100\n",
    "    else:\n",
    "        \"Invalid input probability\"\n",
    "    return true_odds"
   ]
  },
  {
   "cell_type": "code",
   "execution_count": 75,
   "id": "fdf7ea7b",
   "metadata": {},
   "outputs": [
    {
     "ename": "IndentationError",
     "evalue": "expected an indented block (3382153900.py, line 13)",
     "output_type": "error",
     "traceback": [
      "\u001b[1;36m  Input \u001b[1;32mIn [75]\u001b[1;36m\u001b[0m\n\u001b[1;33m    \u001b[0m\n\u001b[1;37m    ^\u001b[0m\n\u001b[1;31mIndentationError\u001b[0m\u001b[1;31m:\u001b[0m expected an indented block\n"
     ]
    }
   ],
   "source": [
    "def union_subevent_prob(actual_sub_probs):\n",
    "    \"\"\"\n",
    "    Input a column vector of probabilities to take the union of. At most 2 probabilities. Uses the inclusion exclusion formula. \n",
    "    Output probability of inclusive or. \n",
    "    \"\"\"\n",
    "    \n",
    "  "
   ]
  },
  {
   "cell_type": "code",
   "execution_count": 85,
   "id": "a232c307",
   "metadata": {},
   "outputs": [
    {
     "data": {
      "text/plain": [
       "[[1.0], [0.5], [0.3333333333333333]]"
      ]
     },
     "execution_count": 85,
     "metadata": {},
     "output_type": "execute_result"
    }
   ],
   "source": [
    "actual_sub_probs"
   ]
  },
  {
   "cell_type": "code",
   "execution_count": 74,
   "id": "2f48ce0d",
   "metadata": {},
   "outputs": [
    {
     "ename": "SyntaxError",
     "evalue": "invalid syntax (3356352350.py, line 1)",
     "output_type": "error",
     "traceback": [
      "\u001b[1;36m  Input \u001b[1;32mIn [74]\u001b[1;36m\u001b[0m\n\u001b[1;33m    actual_sub_probs[0]*actual_sub_probs[i] for i in range(1, len(actual_sub_probs))\u001b[0m\n\u001b[1;37m                                            ^\u001b[0m\n\u001b[1;31mSyntaxError\u001b[0m\u001b[1;31m:\u001b[0m invalid syntax\n"
     ]
    }
   ],
   "source": [
    "actual_sub_probs[0]*actual_sub_probs[i] for i in range(1, len(actual_sub_probs))"
   ]
  },
  {
   "cell_type": "code",
   "execution_count": 67,
   "id": "64752c1b",
   "metadata": {},
   "outputs": [
    {
     "data": {
      "text/plain": [
       "3"
      ]
     },
     "execution_count": 67,
     "metadata": {},
     "output_type": "execute_result"
    }
   ],
   "source": [
    "len(actual_sub_probs)"
   ]
  }
 ],
 "metadata": {
  "kernelspec": {
   "display_name": "Python 3 (ipykernel)",
   "language": "python",
   "name": "python3"
  },
  "language_info": {
   "codemirror_mode": {
    "name": "ipython",
    "version": 3
   },
   "file_extension": ".py",
   "mimetype": "text/x-python",
   "name": "python",
   "nbconvert_exporter": "python",
   "pygments_lexer": "ipython3",
   "version": "3.9.12"
  }
 },
 "nbformat": 4,
 "nbformat_minor": 5
}
